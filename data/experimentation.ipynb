{
 "cells": [
  {
   "cell_type": "code",
   "execution_count": 1,
   "id": "21f2dfa1-dd0b-460c-a851-9c524eb7c07b",
   "metadata": {},
   "outputs": [],
   "source": [
    "from elasticsearch import Elasticsearch, exceptions"
   ]
  },
  {
   "cell_type": "code",
   "execution_count": 11,
   "id": "41b2fec2-9a84-4405-9388-02b886bd2c76",
   "metadata": {},
   "outputs": [],
   "source": [
    "es_server = 'http://localhost:9200'"
   ]
  },
  {
   "cell_type": "code",
   "execution_count": 12,
   "id": "91c2e7fd-fc03-4780-93a7-029e69289ee6",
   "metadata": {},
   "outputs": [],
   "source": [
    "CLICKS_INDEX = 'clicks_index'\n",
    "TRANSACTIONS_INDEX = 'transactions_index'"
   ]
  },
  {
   "cell_type": "code",
   "execution_count": 13,
   "id": "54246ba3-f213-4af2-b622-f8ce820c9c0c",
   "metadata": {},
   "outputs": [
    {
     "data": {
      "text/plain": [
       "True"
      ]
     },
     "execution_count": 13,
     "metadata": {},
     "output_type": "execute_result"
    }
   ],
   "source": [
    "es = Elasticsearch([es_server])\n",
    "es.ping()"
   ]
  },
  {
   "cell_type": "code",
   "execution_count": 14,
   "id": "d48e7db6-1079-407d-8c63-f6f17f7757ae",
   "metadata": {},
   "outputs": [],
   "source": [
    "index_exists = es.indices.exists(index=CLICKS_INDEX)"
   ]
  },
  {
   "cell_type": "code",
   "execution_count": 15,
   "id": "dcef0693-21c6-4c42-b95c-46c52ccfdc3d",
   "metadata": {},
   "outputs": [
    {
     "name": "stdout",
     "output_type": "stream",
     "text": [
      "Nope\n"
     ]
    }
   ],
   "source": [
    "if index_exists:\n",
    "    print('Exists')\n",
    "else:\n",
    "    print('Nope')"
   ]
  },
  {
   "cell_type": "code",
   "execution_count": 16,
   "id": "a6c57376-073f-40a9-8144-36eb8d883713",
   "metadata": {},
   "outputs": [
    {
     "data": {
      "text/plain": [
       "ObjectApiResponse({'acknowledged': True, 'shards_acknowledged': True, 'index': 'clicks_index'})"
      ]
     },
     "execution_count": 16,
     "metadata": {},
     "output_type": "execute_result"
    }
   ],
   "source": [
    "es.indices.create(index = CLICKS_INDEX)"
   ]
  },
  {
   "cell_type": "code",
   "execution_count": 17,
   "id": "19039f6c-53c1-4281-8dae-43c1d019c939",
   "metadata": {},
   "outputs": [
    {
     "name": "stdout",
     "output_type": "stream",
     "text": [
      "Exists\n"
     ]
    }
   ],
   "source": [
    "index_exists = es.indices.exists(index=clicks_index)\n",
    "if index_exists:\n",
    "    print('Exists')\n",
    "else:\n",
    "    print('Nope')"
   ]
  },
  {
   "cell_type": "code",
   "execution_count": 18,
   "id": "45fd9eee-515c-4f08-9ea4-731b9ed8d006",
   "metadata": {},
   "outputs": [],
   "source": [
    "clicks_example = {'id': 493, 'session_id': 'c6e0c223-5ed9-4a6b-8cc2-f59d4e4fc53d', 'event_name': 'PROMO_PAGE', 'event_id': 'e6c68830-9a32-4a34-9adc-a02a592939de', 'traffic_source': 'MOBILE', 'product_id': 0, 'quantity': 0, 'item_price': 0.0, 'payment_status': '', 'search_keywords': '', 'promo_code': '', 'promo_amount': 0.0, 'created_at': 1697921959603564}"
   ]
  },
  {
   "cell_type": "code",
   "execution_count": 20,
   "id": "f367f594-3d32-473b-8993-f9509533ff33",
   "metadata": {},
   "outputs": [],
   "source": [
    "# insert a doc\n",
    "resp = es.index(index=CLICKS_INDEX, document=clicks_example)"
   ]
  },
  {
   "cell_type": "code",
   "execution_count": 21,
   "id": "8afa7a9b-3c22-4e17-a093-ae9edd09a75e",
   "metadata": {},
   "outputs": [
    {
     "data": {
      "text/plain": [
       "ObjectApiResponse({'_index': 'clicks_index', '_id': 'c7lvVosBljhikI2RqDZK', '_version': 1, 'result': 'created', '_shards': {'total': 2, 'successful': 1, 'failed': 0}, '_seq_no': 1, '_primary_term': 1})"
      ]
     },
     "execution_count": 21,
     "metadata": {},
     "output_type": "execute_result"
    }
   ],
   "source": [
    "resp"
   ]
  },
  {
   "cell_type": "code",
   "execution_count": 22,
   "id": "0b92298f-ae4b-49c6-910a-d3258c8c6904",
   "metadata": {},
   "outputs": [
    {
     "data": {
      "text/plain": [
       "'created'"
      ]
     },
     "execution_count": 22,
     "metadata": {},
     "output_type": "execute_result"
    }
   ],
   "source": [
    "resp['result']"
   ]
  },
  {
   "cell_type": "code",
   "execution_count": null,
   "id": "5140b39a-5089-4401-a520-c9e8c72a7329",
   "metadata": {},
   "outputs": [],
   "source": []
  },
  {
   "cell_type": "code",
   "execution_count": 2,
   "id": "b887351f-529b-430a-ba08-644d35071008",
   "metadata": {},
   "outputs": [],
   "source": [
    "topic= 'test_topic'"
   ]
  },
  {
   "cell_type": "code",
   "execution_count": 3,
   "id": "063ed3fe-d30c-44a8-ba67-985db8bb9f86",
   "metadata": {},
   "outputs": [],
   "source": [
    "producer = KafkaProducer(bootstrap_servers = 'localhost:29092', api_version=(3, 5, 1))"
   ]
  },
  {
   "cell_type": "code",
   "execution_count": 4,
   "id": "088e9af6-fdc8-4ec6-b793-85e2322aac87",
   "metadata": {},
   "outputs": [
    {
     "data": {
      "text/plain": [
       "<kafka.producer.future.FutureRecordMetadata at 0x7f2aa97dba90>"
      ]
     },
     "execution_count": 4,
     "metadata": {},
     "output_type": "execute_result"
    },
    {
     "name": "stdout",
     "output_type": "stream",
     "text": [
      "Message sent RecordMetadata(topic='test_topic', partition=0, topic_partition=TopicPartition(topic='test_topic', partition=0), offset=0, timestamp=1696906628128, log_start_offset=0, checksum=None, serialized_key_size=-1, serialized_value_size=12, serialized_header_size=-1)\n"
     ]
    }
   ],
   "source": [
    "# publish a test message\n",
    "producer.send(topic, b'Alefa ee! :)').add_callback(lambda x: print('Message sent', x)).add_errback(lambda e: print('Got some error', e))\n",
    "# print('First message sent.')"
   ]
  },
  {
   "cell_type": "code",
   "execution_count": null,
   "id": "63657d9b-b053-4034-83f5-90faf09e143a",
   "metadata": {},
   "outputs": [],
   "source": []
  }
 ],
 "metadata": {
  "kernelspec": {
   "display_name": "Python 3 (ipykernel)",
   "language": "python",
   "name": "python3"
  },
  "language_info": {
   "codemirror_mode": {
    "name": "ipython",
    "version": 3
   },
   "file_extension": ".py",
   "mimetype": "text/x-python",
   "name": "python",
   "nbconvert_exporter": "python",
   "pygments_lexer": "ipython3",
   "version": "3.10.13"
  }
 },
 "nbformat": 4,
 "nbformat_minor": 5
}
