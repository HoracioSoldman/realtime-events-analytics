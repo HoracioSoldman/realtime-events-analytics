{
 "cells": [
  {
   "cell_type": "code",
   "execution_count": 1,
   "id": "21f2dfa1-dd0b-460c-a851-9c524eb7c07b",
   "metadata": {},
   "outputs": [],
   "source": [
    "from kafka import KafkaProducer"
   ]
  },
  {
   "cell_type": "code",
   "execution_count": 2,
   "id": "b887351f-529b-430a-ba08-644d35071008",
   "metadata": {},
   "outputs": [],
   "source": [
    "topic= 'test_topic'"
   ]
  },
  {
   "cell_type": "code",
   "execution_count": 3,
   "id": "063ed3fe-d30c-44a8-ba67-985db8bb9f86",
   "metadata": {},
   "outputs": [],
   "source": [
    "producer = KafkaProducer(bootstrap_servers = 'localhost:29092', api_version=(3, 5, 1))"
   ]
  },
  {
   "cell_type": "code",
   "execution_count": 4,
   "id": "088e9af6-fdc8-4ec6-b793-85e2322aac87",
   "metadata": {},
   "outputs": [
    {
     "data": {
      "text/plain": [
       "<kafka.producer.future.FutureRecordMetadata at 0x7f2aa97dba90>"
      ]
     },
     "execution_count": 4,
     "metadata": {},
     "output_type": "execute_result"
    },
    {
     "name": "stdout",
     "output_type": "stream",
     "text": [
      "Message sent RecordMetadata(topic='test_topic', partition=0, topic_partition=TopicPartition(topic='test_topic', partition=0), offset=0, timestamp=1696906628128, log_start_offset=0, checksum=None, serialized_key_size=-1, serialized_value_size=12, serialized_header_size=-1)\n"
     ]
    }
   ],
   "source": [
    "# publish a test message\n",
    "producer.send(topic, b'Alefa ee! :)').add_callback(lambda x: print('Message sent', x)).add_errback(lambda e: print('Got some error', e))\n",
    "# print('First message sent.')"
   ]
  }
 ],
 "metadata": {
  "kernelspec": {
   "display_name": "Python 3 (ipykernel)",
   "language": "python",
   "name": "python3"
  },
  "language_info": {
   "codemirror_mode": {
    "name": "ipython",
    "version": 3
   },
   "file_extension": ".py",
   "mimetype": "text/x-python",
   "name": "python",
   "nbconvert_exporter": "python",
   "pygments_lexer": "ipython3",
   "version": "3.10.13"
  }
 },
 "nbformat": 4,
 "nbformat_minor": 5
}
