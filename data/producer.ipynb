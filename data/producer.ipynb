{
 "cells": [
  {
   "cell_type": "code",
   "execution_count": 40,
   "id": "21f2dfa1-dd0b-460c-a851-9c524eb7c07b",
   "metadata": {},
   "outputs": [],
   "source": [
    "from kafka import KafkaProducer"
   ]
  },
  {
   "cell_type": "code",
   "execution_count": 32,
   "id": "b887351f-529b-430a-ba08-644d35071008",
   "metadata": {},
   "outputs": [],
   "source": [
    "topic= 'test_topic'"
   ]
  },
  {
   "cell_type": "code",
   "execution_count": 52,
   "id": "063ed3fe-d30c-44a8-ba67-985db8bb9f86",
   "metadata": {},
   "outputs": [],
   "source": [
    "producer = KafkaProducer(bootstrap_servers = 'localhost:9092', api_version=(3, 5, 1))"
   ]
  },
  {
   "cell_type": "code",
   "execution_count": 53,
   "id": "088e9af6-fdc8-4ec6-b793-85e2322aac87",
   "metadata": {},
   "outputs": [
    {
     "data": {
      "text/plain": [
       "<kafka.producer.future.FutureRecordMetadata at 0x7f58405d7dc0>"
      ]
     },
     "execution_count": 53,
     "metadata": {},
     "output_type": "execute_result"
    },
    {
     "name": "stdout",
     "output_type": "stream",
     "text": [
      "Got some error KafkaTimeoutError: Batch for TopicPartition(topic='test_topic', partition=0) containing 1 record(s) expired: 30 seconds have passed since batch creation plus linger time\n"
     ]
    }
   ],
   "source": [
    "# publish a test message\n",
    "producer.send(topic, b'This is another test message :)').add_callback(lambda x: print('Message sent', x)).add_errback(lambda e: print('Got some error', e))\n",
    "# print('First message sent.')"
   ]
  }
 ],
 "metadata": {
  "kernelspec": {
   "display_name": "Python 3 (ipykernel)",
   "language": "python",
   "name": "python3"
  },
  "language_info": {
   "codemirror_mode": {
    "name": "ipython",
    "version": 3
   },
   "file_extension": ".py",
   "mimetype": "text/x-python",
   "name": "python",
   "nbconvert_exporter": "python",
   "pygments_lexer": "ipython3",
   "version": "3.10.13"
  }
 },
 "nbformat": 4,
 "nbformat_minor": 5
}
