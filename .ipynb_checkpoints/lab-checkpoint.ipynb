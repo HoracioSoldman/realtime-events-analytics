{
 "cells": [
  {
   "cell_type": "code",
   "execution_count": 2,
   "id": "c946d3e1-92cf-41f7-926c-722d57afd999",
   "metadata": {},
   "outputs": [],
   "source": [
    "import pandas as pd"
   ]
  },
  {
   "cell_type": "code",
   "execution_count": 20,
   "id": "23d64682-9f1b-47d3-8542-f54a145c83da",
   "metadata": {},
   "outputs": [
    {
     "data": {
      "text/html": [
       "<div>\n",
       "<style scoped>\n",
       "    .dataframe tbody tr th:only-of-type {\n",
       "        vertical-align: middle;\n",
       "    }\n",
       "\n",
       "    .dataframe tbody tr th {\n",
       "        vertical-align: top;\n",
       "    }\n",
       "\n",
       "    .dataframe thead th {\n",
       "        text-align: right;\n",
       "    }\n",
       "</style>\n",
       "<table border=\"1\" class=\"dataframe\">\n",
       "  <thead>\n",
       "    <tr style=\"text-align: right;\">\n",
       "      <th></th>\n",
       "      <th>session_id</th>\n",
       "      <th>event_name</th>\n",
       "      <th>event_time</th>\n",
       "      <th>event_id</th>\n",
       "      <th>traffic_source</th>\n",
       "      <th>event_metadata</th>\n",
       "    </tr>\n",
       "  </thead>\n",
       "  <tbody>\n",
       "    <tr>\n",
       "      <th>0</th>\n",
       "      <td>fb0abf9e-fd1a-44dd-b5c0-2834d5a4b81c</td>\n",
       "      <td>HOMEPAGE</td>\n",
       "      <td>2019-09-06T15:54:32.821085Z</td>\n",
       "      <td>9c4388c4-c95b-4678-b5ca-e9cbc0734109</td>\n",
       "      <td>MOBILE</td>\n",
       "      <td>NaN</td>\n",
       "    </tr>\n",
       "    <tr>\n",
       "      <th>1</th>\n",
       "      <td>fb0abf9e-fd1a-44dd-b5c0-2834d5a4b81c</td>\n",
       "      <td>SCROLL</td>\n",
       "      <td>2019-09-06T16:03:57.821085Z</td>\n",
       "      <td>4690e1f5-3f99-42d3-84a5-22c4c4d8500a</td>\n",
       "      <td>MOBILE</td>\n",
       "      <td>NaN</td>\n",
       "    </tr>\n",
       "    <tr>\n",
       "      <th>2</th>\n",
       "      <td>7d440441-e67a-4d36-b324-80ffd636d166</td>\n",
       "      <td>HOMEPAGE</td>\n",
       "      <td>2019-09-01T12:05:10.322763Z</td>\n",
       "      <td>88aeaeb5-ec98-4859-852c-8abb483faf31</td>\n",
       "      <td>MOBILE</td>\n",
       "      <td>NaN</td>\n",
       "    </tr>\n",
       "    <tr>\n",
       "      <th>3</th>\n",
       "      <td>7d440441-e67a-4d36-b324-80ffd636d166</td>\n",
       "      <td>ADD_TO_CART</td>\n",
       "      <td>2019-09-01T12:06:33.322763Z</td>\n",
       "      <td>934e306e-ecc6-472f-9ccb-12c8536910a2</td>\n",
       "      <td>MOBILE</td>\n",
       "      <td>{'product_id': 15315, 'quantity': 4, 'item_pri...</td>\n",
       "    </tr>\n",
       "    <tr>\n",
       "      <th>4</th>\n",
       "      <td>7d440441-e67a-4d36-b324-80ffd636d166</td>\n",
       "      <td>BOOKING</td>\n",
       "      <td>2019-09-01T12:15:29.425431Z</td>\n",
       "      <td>9f4767a1-40fa-4c9c-9524-dfad18634d56</td>\n",
       "      <td>MOBILE</td>\n",
       "      <td>{'payment_status': 'Success'}</td>\n",
       "    </tr>\n",
       "  </tbody>\n",
       "</table>\n",
       "</div>"
      ],
      "text/plain": [
       "                             session_id   event_name  \\\n",
       "0  fb0abf9e-fd1a-44dd-b5c0-2834d5a4b81c     HOMEPAGE   \n",
       "1  fb0abf9e-fd1a-44dd-b5c0-2834d5a4b81c       SCROLL   \n",
       "2  7d440441-e67a-4d36-b324-80ffd636d166     HOMEPAGE   \n",
       "3  7d440441-e67a-4d36-b324-80ffd636d166  ADD_TO_CART   \n",
       "4  7d440441-e67a-4d36-b324-80ffd636d166      BOOKING   \n",
       "\n",
       "                    event_time                              event_id  \\\n",
       "0  2019-09-06T15:54:32.821085Z  9c4388c4-c95b-4678-b5ca-e9cbc0734109   \n",
       "1  2019-09-06T16:03:57.821085Z  4690e1f5-3f99-42d3-84a5-22c4c4d8500a   \n",
       "2  2019-09-01T12:05:10.322763Z  88aeaeb5-ec98-4859-852c-8abb483faf31   \n",
       "3  2019-09-01T12:06:33.322763Z  934e306e-ecc6-472f-9ccb-12c8536910a2   \n",
       "4  2019-09-01T12:15:29.425431Z  9f4767a1-40fa-4c9c-9524-dfad18634d56   \n",
       "\n",
       "  traffic_source                                     event_metadata  \n",
       "0         MOBILE                                                NaN  \n",
       "1         MOBILE                                                NaN  \n",
       "2         MOBILE                                                NaN  \n",
       "3         MOBILE  {'product_id': 15315, 'quantity': 4, 'item_pri...  \n",
       "4         MOBILE                      {'payment_status': 'Success'}  "
      ]
     },
     "execution_count": 20,
     "metadata": {},
     "output_type": "execute_result"
    }
   ],
   "source": [
    "df = pd.read_csv('../data/click_stream.csv')\n",
    "df.head()"
   ]
  },
  {
   "cell_type": "code",
   "execution_count": 21,
   "id": "682c6ea3-173e-421e-a963-b0840a17f2db",
   "metadata": {},
   "outputs": [
    {
     "data": {
      "text/plain": [
       "(12833602, 6)"
      ]
     },
     "execution_count": 21,
     "metadata": {},
     "output_type": "execute_result"
    }
   ],
   "source": [
    "df.shape"
   ]
  },
  {
   "cell_type": "code",
   "execution_count": 22,
   "id": "6bd5fedb-5067-4153-bb1e-1defc998f31d",
   "metadata": {},
   "outputs": [
    {
     "data": {
      "text/plain": [
       "array(['HOMEPAGE', 'SCROLL', 'ADD_TO_CART', 'BOOKING', 'SEARCH',\n",
       "       'ITEM_DETAIL', 'ADD_PROMO', 'CLICK', 'PROMO_PAGE'], dtype=object)"
      ]
     },
     "execution_count": 22,
     "metadata": {},
     "output_type": "execute_result"
    }
   ],
   "source": [
    "df['event_name'].unique()"
   ]
  },
  {
   "cell_type": "code",
   "execution_count": 24,
   "id": "e4af6c62-183c-48dd-aa9b-3853d8cb8d6d",
   "metadata": {},
   "outputs": [],
   "source": [
    "df['event_date'] = [ d[:10] for d in df['event_time'] ]"
   ]
  },
  {
   "cell_type": "code",
   "execution_count": 25,
   "id": "2a8ecf28-c3e1-4b3f-a3d1-c3a1fabca93e",
   "metadata": {},
   "outputs": [
    {
     "data": {
      "text/plain": [
       "0    2019-09-06\n",
       "1    2019-09-06\n",
       "2    2019-09-01\n",
       "3    2019-09-01\n",
       "4    2019-09-01\n",
       "Name: event_date, dtype: object"
      ]
     },
     "execution_count": 25,
     "metadata": {},
     "output_type": "execute_result"
    }
   ],
   "source": [
    "df['event_date'].head()"
   ]
  },
  {
   "cell_type": "code",
   "execution_count": 27,
   "id": "3804946d-5d50-43c3-8fa9-e5f155397260",
   "metadata": {},
   "outputs": [
    {
     "data": {
      "text/html": [
       "<div>\n",
       "<style scoped>\n",
       "    .dataframe tbody tr th:only-of-type {\n",
       "        vertical-align: middle;\n",
       "    }\n",
       "\n",
       "    .dataframe tbody tr th {\n",
       "        vertical-align: top;\n",
       "    }\n",
       "\n",
       "    .dataframe thead th {\n",
       "        text-align: right;\n",
       "    }\n",
       "</style>\n",
       "<table border=\"1\" class=\"dataframe\">\n",
       "  <thead>\n",
       "    <tr style=\"text-align: right;\">\n",
       "      <th></th>\n",
       "      <th>event_time</th>\n",
       "    </tr>\n",
       "    <tr>\n",
       "      <th>event_date</th>\n",
       "      <th></th>\n",
       "    </tr>\n",
       "  </thead>\n",
       "  <tbody>\n",
       "    <tr>\n",
       "      <th>2016-06-30</th>\n",
       "      <td>14</td>\n",
       "    </tr>\n",
       "    <tr>\n",
       "      <th>2016-07-01</th>\n",
       "      <td>18</td>\n",
       "    </tr>\n",
       "    <tr>\n",
       "      <th>2016-07-02</th>\n",
       "      <td>67</td>\n",
       "    </tr>\n",
       "    <tr>\n",
       "      <th>2016-07-03</th>\n",
       "      <td>150</td>\n",
       "    </tr>\n",
       "    <tr>\n",
       "      <th>2016-07-04</th>\n",
       "      <td>181</td>\n",
       "    </tr>\n",
       "  </tbody>\n",
       "</table>\n",
       "</div>"
      ],
      "text/plain": [
       "            event_time\n",
       "event_date            \n",
       "2016-06-30          14\n",
       "2016-07-01          18\n",
       "2016-07-02          67\n",
       "2016-07-03         150\n",
       "2016-07-04         181"
      ]
     },
     "execution_count": 27,
     "metadata": {},
     "output_type": "execute_result"
    }
   ],
   "source": [
    "# search for the most active date\n",
    "df_filtered = df[['event_date', 'event_time']]\n",
    "df_filtered_groupped = df_filtered.groupby(['event_date']).count()\n",
    "df_filtered_groupped.head()"
   ]
  },
  {
   "cell_type": "code",
   "execution_count": 29,
   "id": "f824d00a-5344-42d3-8332-d5f7fd70ec88",
   "metadata": {},
   "outputs": [
    {
     "data": {
      "text/html": [
       "<div>\n",
       "<style scoped>\n",
       "    .dataframe tbody tr th:only-of-type {\n",
       "        vertical-align: middle;\n",
       "    }\n",
       "\n",
       "    .dataframe tbody tr th {\n",
       "        vertical-align: top;\n",
       "    }\n",
       "\n",
       "    .dataframe thead th {\n",
       "        text-align: right;\n",
       "    }\n",
       "</style>\n",
       "<table border=\"1\" class=\"dataframe\">\n",
       "  <thead>\n",
       "    <tr style=\"text-align: right;\">\n",
       "      <th></th>\n",
       "      <th>event_time</th>\n",
       "    </tr>\n",
       "    <tr>\n",
       "      <th>event_date</th>\n",
       "      <th></th>\n",
       "    </tr>\n",
       "  </thead>\n",
       "  <tbody>\n",
       "    <tr>\n",
       "      <th>2022-07-31</th>\n",
       "      <td>27759</td>\n",
       "    </tr>\n",
       "  </tbody>\n",
       "</table>\n",
       "</div>"
      ],
      "text/plain": [
       "            event_time\n",
       "event_date            \n",
       "2022-07-31       27759"
      ]
     },
     "execution_count": 29,
     "metadata": {},
     "output_type": "execute_result"
    }
   ],
   "source": [
    "df_most_active_day = df_filtered_groupped[df_filtered_groupped['event_time'] == df_filtered_groupped['event_time'].max()]\n",
    "df_most_active_day"
   ]
  },
  {
   "cell_type": "code",
   "execution_count": null,
   "id": "19b81f6a-aee7-4041-9daf-9fa59c5c5bfc",
   "metadata": {},
   "outputs": [],
   "source": []
  },
  {
   "cell_type": "code",
   "execution_count": 30,
   "id": "4c4d163a-e2ce-45e5-81cb-5b81d4648ebe",
   "metadata": {},
   "outputs": [
    {
     "data": {
      "text/html": [
       "<div>\n",
       "<style scoped>\n",
       "    .dataframe tbody tr th:only-of-type {\n",
       "        vertical-align: middle;\n",
       "    }\n",
       "\n",
       "    .dataframe tbody tr th {\n",
       "        vertical-align: top;\n",
       "    }\n",
       "\n",
       "    .dataframe thead th {\n",
       "        text-align: right;\n",
       "    }\n",
       "</style>\n",
       "<table border=\"1\" class=\"dataframe\">\n",
       "  <thead>\n",
       "    <tr style=\"text-align: right;\">\n",
       "      <th></th>\n",
       "      <th>session_id</th>\n",
       "      <th>event_name</th>\n",
       "      <th>event_time</th>\n",
       "      <th>event_id</th>\n",
       "      <th>traffic_source</th>\n",
       "      <th>event_metadata</th>\n",
       "      <th>event_date</th>\n",
       "    </tr>\n",
       "  </thead>\n",
       "  <tbody>\n",
       "    <tr>\n",
       "      <th>11775</th>\n",
       "      <td>ea1f0447-4ff4-4a5f-b13f-7437e1605f8e</td>\n",
       "      <td>HOMEPAGE</td>\n",
       "      <td>2022-07-31T22:50:45.517836Z</td>\n",
       "      <td>755d35e2-7168-4de1-af2a-3e33895ad86b</td>\n",
       "      <td>MOBILE</td>\n",
       "      <td>NaN</td>\n",
       "      <td>2022-07-31</td>\n",
       "    </tr>\n",
       "    <tr>\n",
       "      <th>11776</th>\n",
       "      <td>ea1f0447-4ff4-4a5f-b13f-7437e1605f8e</td>\n",
       "      <td>SCROLL</td>\n",
       "      <td>2022-07-31T22:53:35.517836Z</td>\n",
       "      <td>58fe06b1-d678-4d85-8ded-5f7c4314c3c9</td>\n",
       "      <td>MOBILE</td>\n",
       "      <td>NaN</td>\n",
       "      <td>2022-07-31</td>\n",
       "    </tr>\n",
       "    <tr>\n",
       "      <th>11777</th>\n",
       "      <td>ea1f0447-4ff4-4a5f-b13f-7437e1605f8e</td>\n",
       "      <td>SCROLL</td>\n",
       "      <td>2022-07-31T22:56:40.517836Z</td>\n",
       "      <td>44bfbad4-84dd-499f-9b67-80bdee91d7db</td>\n",
       "      <td>MOBILE</td>\n",
       "      <td>NaN</td>\n",
       "      <td>2022-07-31</td>\n",
       "    </tr>\n",
       "    <tr>\n",
       "      <th>11778</th>\n",
       "      <td>ea1f0447-4ff4-4a5f-b13f-7437e1605f8e</td>\n",
       "      <td>SEARCH</td>\n",
       "      <td>2022-07-31T22:59:29.517836Z</td>\n",
       "      <td>d75f98b1-df28-4306-aad8-70059aeb5f2e</td>\n",
       "      <td>MOBILE</td>\n",
       "      <td>{'search_keywords': 'T-Shirt'}</td>\n",
       "      <td>2022-07-31</td>\n",
       "    </tr>\n",
       "    <tr>\n",
       "      <th>11779</th>\n",
       "      <td>ea1f0447-4ff4-4a5f-b13f-7437e1605f8e</td>\n",
       "      <td>SEARCH</td>\n",
       "      <td>2022-07-31T23:02:32.517836Z</td>\n",
       "      <td>5449155f-3f09-48d8-acc1-14756e97deef</td>\n",
       "      <td>MOBILE</td>\n",
       "      <td>{'search_keywords': 'Baju'}</td>\n",
       "      <td>2022-07-31</td>\n",
       "    </tr>\n",
       "  </tbody>\n",
       "</table>\n",
       "</div>"
      ],
      "text/plain": [
       "                                 session_id event_name  \\\n",
       "11775  ea1f0447-4ff4-4a5f-b13f-7437e1605f8e   HOMEPAGE   \n",
       "11776  ea1f0447-4ff4-4a5f-b13f-7437e1605f8e     SCROLL   \n",
       "11777  ea1f0447-4ff4-4a5f-b13f-7437e1605f8e     SCROLL   \n",
       "11778  ea1f0447-4ff4-4a5f-b13f-7437e1605f8e     SEARCH   \n",
       "11779  ea1f0447-4ff4-4a5f-b13f-7437e1605f8e     SEARCH   \n",
       "\n",
       "                        event_time                              event_id  \\\n",
       "11775  2022-07-31T22:50:45.517836Z  755d35e2-7168-4de1-af2a-3e33895ad86b   \n",
       "11776  2022-07-31T22:53:35.517836Z  58fe06b1-d678-4d85-8ded-5f7c4314c3c9   \n",
       "11777  2022-07-31T22:56:40.517836Z  44bfbad4-84dd-499f-9b67-80bdee91d7db   \n",
       "11778  2022-07-31T22:59:29.517836Z  d75f98b1-df28-4306-aad8-70059aeb5f2e   \n",
       "11779  2022-07-31T23:02:32.517836Z  5449155f-3f09-48d8-acc1-14756e97deef   \n",
       "\n",
       "      traffic_source                  event_metadata  event_date  \n",
       "11775         MOBILE                             NaN  2022-07-31  \n",
       "11776         MOBILE                             NaN  2022-07-31  \n",
       "11777         MOBILE                             NaN  2022-07-31  \n",
       "11778         MOBILE  {'search_keywords': 'T-Shirt'}  2022-07-31  \n",
       "11779         MOBILE     {'search_keywords': 'Baju'}  2022-07-31  "
      ]
     },
     "execution_count": 30,
     "metadata": {},
     "output_type": "execute_result"
    }
   ],
   "source": [
    "df_final = df[df['event_date'].eq('2022-07-31')]\n",
    "df_final.head()"
   ]
  },
  {
   "cell_type": "code",
   "execution_count": 31,
   "id": "5d29e783-6b12-4204-9026-536e752d3bd2",
   "metadata": {},
   "outputs": [
    {
     "data": {
      "text/plain": [
       "(27759, 7)"
      ]
     },
     "execution_count": 31,
     "metadata": {},
     "output_type": "execute_result"
    }
   ],
   "source": [
    "df_final.shape"
   ]
  },
  {
   "cell_type": "code",
   "execution_count": 33,
   "id": "5bf381ac-99a4-40ac-ab58-0956d5a7d12c",
   "metadata": {},
   "outputs": [
    {
     "name": "stderr",
     "output_type": "stream",
     "text": [
      "/tmp/ipykernel_4496/3631203905.py:1: SettingWithCopyWarning: \n",
      "A value is trying to be set on a copy of a slice from a DataFrame\n",
      "\n",
      "See the caveats in the documentation: https://pandas.pydata.org/pandas-docs/stable/user_guide/indexing.html#returning-a-view-versus-a-copy\n",
      "  df_final.sort_values(by='event_time', inplace=True)\n"
     ]
    },
    {
     "data": {
      "text/html": [
       "<div>\n",
       "<style scoped>\n",
       "    .dataframe tbody tr th:only-of-type {\n",
       "        vertical-align: middle;\n",
       "    }\n",
       "\n",
       "    .dataframe tbody tr th {\n",
       "        vertical-align: top;\n",
       "    }\n",
       "\n",
       "    .dataframe thead th {\n",
       "        text-align: right;\n",
       "    }\n",
       "</style>\n",
       "<table border=\"1\" class=\"dataframe\">\n",
       "  <thead>\n",
       "    <tr style=\"text-align: right;\">\n",
       "      <th></th>\n",
       "      <th>session_id</th>\n",
       "      <th>event_name</th>\n",
       "      <th>event_time</th>\n",
       "      <th>event_id</th>\n",
       "      <th>traffic_source</th>\n",
       "      <th>event_metadata</th>\n",
       "      <th>event_date</th>\n",
       "    </tr>\n",
       "  </thead>\n",
       "  <tbody>\n",
       "    <tr>\n",
       "      <th>10164772</th>\n",
       "      <td>096fec88-b44c-4a27-ba14-48bcc1e670db</td>\n",
       "      <td>HOMEPAGE</td>\n",
       "      <td>2022-07-31T00:00:08.361823Z</td>\n",
       "      <td>881ee7c6-6d21-49c8-9e2f-e5cae9ea68e7</td>\n",
       "      <td>MOBILE</td>\n",
       "      <td>NaN</td>\n",
       "      <td>2022-07-31</td>\n",
       "    </tr>\n",
       "    <tr>\n",
       "      <th>10149939</th>\n",
       "      <td>12d8e1ff-a21b-4a6f-86f7-f5f31557986e</td>\n",
       "      <td>SCROLL</td>\n",
       "      <td>2022-07-31T00:00:19.191828Z</td>\n",
       "      <td>3057a1c1-828e-4d17-bf2c-a21292450613</td>\n",
       "      <td>MOBILE</td>\n",
       "      <td>NaN</td>\n",
       "      <td>2022-07-31</td>\n",
       "    </tr>\n",
       "    <tr>\n",
       "      <th>2321955</th>\n",
       "      <td>d7b4d7c4-17b3-48b7-92c3-73b484fd9f2f</td>\n",
       "      <td>SEARCH</td>\n",
       "      <td>2022-07-31T00:00:20.822075Z</td>\n",
       "      <td>649c483b-057b-4f5b-ac12-ac9e2ac216ff</td>\n",
       "      <td>MOBILE</td>\n",
       "      <td>{'search_keywords': 'T-Shirt'}</td>\n",
       "      <td>2022-07-31</td>\n",
       "    </tr>\n",
       "    <tr>\n",
       "      <th>11963211</th>\n",
       "      <td>d5e152a1-e8d9-4d1a-a646-9ba7b31c5b96</td>\n",
       "      <td>SEARCH</td>\n",
       "      <td>2022-07-31T00:00:22.101671Z</td>\n",
       "      <td>9a060895-60e3-4ab3-8af0-566fb4f1dc9b</td>\n",
       "      <td>MOBILE</td>\n",
       "      <td>{'search_keywords': 'T-Shirt'}</td>\n",
       "      <td>2022-07-31</td>\n",
       "    </tr>\n",
       "    <tr>\n",
       "      <th>10878721</th>\n",
       "      <td>04305057-f8b2-4265-bec1-8db695929418</td>\n",
       "      <td>SCROLL</td>\n",
       "      <td>2022-07-31T00:00:22.542968Z</td>\n",
       "      <td>7adf17f3-dece-4000-ae45-60c456504256</td>\n",
       "      <td>MOBILE</td>\n",
       "      <td>NaN</td>\n",
       "      <td>2022-07-31</td>\n",
       "    </tr>\n",
       "    <tr>\n",
       "      <th>8140278</th>\n",
       "      <td>fa00c2b3-1833-4c30-885d-8d4d8005f5d5</td>\n",
       "      <td>CLICK</td>\n",
       "      <td>2022-07-31T00:00:30.561973Z</td>\n",
       "      <td>8d549943-1178-40f4-b663-fe1ce2248cd6</td>\n",
       "      <td>MOBILE</td>\n",
       "      <td>NaN</td>\n",
       "      <td>2022-07-31</td>\n",
       "    </tr>\n",
       "    <tr>\n",
       "      <th>10930952</th>\n",
       "      <td>87143996-d899-4f12-bb29-d13be6b5121a</td>\n",
       "      <td>HOMEPAGE</td>\n",
       "      <td>2022-07-31T00:00:44.896142Z</td>\n",
       "      <td>975d9c27-e770-4522-8fb2-bb5464b24bbe</td>\n",
       "      <td>MOBILE</td>\n",
       "      <td>NaN</td>\n",
       "      <td>2022-07-31</td>\n",
       "    </tr>\n",
       "    <tr>\n",
       "      <th>8236984</th>\n",
       "      <td>8cb4ddbc-cd9c-426a-9e11-8d4395b3dd82</td>\n",
       "      <td>CLICK</td>\n",
       "      <td>2022-07-31T00:01:26.074719Z</td>\n",
       "      <td>03dc5cfa-1869-4b50-830b-17417163b3c4</td>\n",
       "      <td>WEB</td>\n",
       "      <td>NaN</td>\n",
       "      <td>2022-07-31</td>\n",
       "    </tr>\n",
       "    <tr>\n",
       "      <th>10164773</th>\n",
       "      <td>096fec88-b44c-4a27-ba14-48bcc1e670db</td>\n",
       "      <td>ITEM_DETAIL</td>\n",
       "      <td>2022-07-31T00:01:29.361823Z</td>\n",
       "      <td>0927a1ad-a05d-4953-9ca4-f1040c539845</td>\n",
       "      <td>MOBILE</td>\n",
       "      <td>NaN</td>\n",
       "      <td>2022-07-31</td>\n",
       "    </tr>\n",
       "    <tr>\n",
       "      <th>12557781</th>\n",
       "      <td>d82ac2dd-a91c-4614-9a1c-aaa867c2cd3f</td>\n",
       "      <td>ITEM_DETAIL</td>\n",
       "      <td>2022-07-31T00:01:36.152483Z</td>\n",
       "      <td>86a545db-fdef-440a-b039-770d664d59fb</td>\n",
       "      <td>MOBILE</td>\n",
       "      <td>NaN</td>\n",
       "      <td>2022-07-31</td>\n",
       "    </tr>\n",
       "  </tbody>\n",
       "</table>\n",
       "</div>"
      ],
      "text/plain": [
       "                                    session_id   event_name  \\\n",
       "10164772  096fec88-b44c-4a27-ba14-48bcc1e670db     HOMEPAGE   \n",
       "10149939  12d8e1ff-a21b-4a6f-86f7-f5f31557986e       SCROLL   \n",
       "2321955   d7b4d7c4-17b3-48b7-92c3-73b484fd9f2f       SEARCH   \n",
       "11963211  d5e152a1-e8d9-4d1a-a646-9ba7b31c5b96       SEARCH   \n",
       "10878721  04305057-f8b2-4265-bec1-8db695929418       SCROLL   \n",
       "8140278   fa00c2b3-1833-4c30-885d-8d4d8005f5d5        CLICK   \n",
       "10930952  87143996-d899-4f12-bb29-d13be6b5121a     HOMEPAGE   \n",
       "8236984   8cb4ddbc-cd9c-426a-9e11-8d4395b3dd82        CLICK   \n",
       "10164773  096fec88-b44c-4a27-ba14-48bcc1e670db  ITEM_DETAIL   \n",
       "12557781  d82ac2dd-a91c-4614-9a1c-aaa867c2cd3f  ITEM_DETAIL   \n",
       "\n",
       "                           event_time                              event_id  \\\n",
       "10164772  2022-07-31T00:00:08.361823Z  881ee7c6-6d21-49c8-9e2f-e5cae9ea68e7   \n",
       "10149939  2022-07-31T00:00:19.191828Z  3057a1c1-828e-4d17-bf2c-a21292450613   \n",
       "2321955   2022-07-31T00:00:20.822075Z  649c483b-057b-4f5b-ac12-ac9e2ac216ff   \n",
       "11963211  2022-07-31T00:00:22.101671Z  9a060895-60e3-4ab3-8af0-566fb4f1dc9b   \n",
       "10878721  2022-07-31T00:00:22.542968Z  7adf17f3-dece-4000-ae45-60c456504256   \n",
       "8140278   2022-07-31T00:00:30.561973Z  8d549943-1178-40f4-b663-fe1ce2248cd6   \n",
       "10930952  2022-07-31T00:00:44.896142Z  975d9c27-e770-4522-8fb2-bb5464b24bbe   \n",
       "8236984   2022-07-31T00:01:26.074719Z  03dc5cfa-1869-4b50-830b-17417163b3c4   \n",
       "10164773  2022-07-31T00:01:29.361823Z  0927a1ad-a05d-4953-9ca4-f1040c539845   \n",
       "12557781  2022-07-31T00:01:36.152483Z  86a545db-fdef-440a-b039-770d664d59fb   \n",
       "\n",
       "         traffic_source                  event_metadata  event_date  \n",
       "10164772         MOBILE                             NaN  2022-07-31  \n",
       "10149939         MOBILE                             NaN  2022-07-31  \n",
       "2321955          MOBILE  {'search_keywords': 'T-Shirt'}  2022-07-31  \n",
       "11963211         MOBILE  {'search_keywords': 'T-Shirt'}  2022-07-31  \n",
       "10878721         MOBILE                             NaN  2022-07-31  \n",
       "8140278          MOBILE                             NaN  2022-07-31  \n",
       "10930952         MOBILE                             NaN  2022-07-31  \n",
       "8236984             WEB                             NaN  2022-07-31  \n",
       "10164773         MOBILE                             NaN  2022-07-31  \n",
       "12557781         MOBILE                             NaN  2022-07-31  "
      ]
     },
     "execution_count": 33,
     "metadata": {},
     "output_type": "execute_result"
    }
   ],
   "source": [
    "df_final.sort_values(by='event_time', inplace=True)\n",
    "df_final.head(10)"
   ]
  },
  {
   "cell_type": "code",
   "execution_count": 37,
   "id": "519b3ff4-c4d0-4651-b24c-df90295627e0",
   "metadata": {},
   "outputs": [
    {
     "data": {
      "text/plain": [
       "Timestamp('2022-07-31 00:00:08.361823+0000', tz='UTC')"
      ]
     },
     "execution_count": 37,
     "metadata": {},
     "output_type": "execute_result"
    }
   ],
   "source": [
    "min_event_time = df_final['event_time'].min()\n",
    "min_event_time"
   ]
  },
  {
   "cell_type": "code",
   "execution_count": 36,
   "id": "b1d5b54d-50a9-4449-91d4-7fd274c02461",
   "metadata": {},
   "outputs": [
    {
     "name": "stderr",
     "output_type": "stream",
     "text": [
      "/tmp/ipykernel_4496/1724010305.py:1: SettingWithCopyWarning: \n",
      "A value is trying to be set on a copy of a slice from a DataFrame.\n",
      "Try using .loc[row_indexer,col_indexer] = value instead\n",
      "\n",
      "See the caveats in the documentation: https://pandas.pydata.org/pandas-docs/stable/user_guide/indexing.html#returning-a-view-versus-a-copy\n",
      "  df_final['event_time'] = pd.to_datetime(df_final['event_time'])\n"
     ]
    }
   ],
   "source": [
    "df_final['event_time'] = pd.to_datetime(df_final['event_time'])"
   ]
  },
  {
   "cell_type": "code",
   "execution_count": 38,
   "id": "de3c5e47-1470-4365-89f7-08139dcdb660",
   "metadata": {},
   "outputs": [
    {
     "name": "stderr",
     "output_type": "stream",
     "text": [
      "/tmp/ipykernel_4496/3491974109.py:1: SettingWithCopyWarning: \n",
      "A value is trying to be set on a copy of a slice from a DataFrame.\n",
      "Try using .loc[row_indexer,col_indexer] = value instead\n",
      "\n",
      "See the caveats in the documentation: https://pandas.pydata.org/pandas-docs/stable/user_guide/indexing.html#returning-a-view-versus-a-copy\n",
      "  df_final['event_offset'] = [int((t - min_event_time).total_seconds()) for t in df_final['event_time']]\n"
     ]
    },
    {
     "data": {
      "text/plain": [
       "10164772     0\n",
       "10149939    10\n",
       "2321955     12\n",
       "11963211    13\n",
       "10878721    14\n",
       "Name: event_offset, dtype: int64"
      ]
     },
     "execution_count": 38,
     "metadata": {},
     "output_type": "execute_result"
    }
   ],
   "source": [
    "df_final['event_offset'] = [int((t - min_event_time).total_seconds()) for t in df_final['event_time']]\n",
    "df_final['event_offset'].head()"
   ]
  },
  {
   "cell_type": "code",
   "execution_count": 39,
   "id": "f51b44ac-e396-4da2-b9db-725dd2d9b34d",
   "metadata": {},
   "outputs": [
    {
     "data": {
      "text/html": [
       "<div>\n",
       "<style scoped>\n",
       "    .dataframe tbody tr th:only-of-type {\n",
       "        vertical-align: middle;\n",
       "    }\n",
       "\n",
       "    .dataframe tbody tr th {\n",
       "        vertical-align: top;\n",
       "    }\n",
       "\n",
       "    .dataframe thead th {\n",
       "        text-align: right;\n",
       "    }\n",
       "</style>\n",
       "<table border=\"1\" class=\"dataframe\">\n",
       "  <thead>\n",
       "    <tr style=\"text-align: right;\">\n",
       "      <th></th>\n",
       "      <th>session_id</th>\n",
       "      <th>event_name</th>\n",
       "      <th>event_time</th>\n",
       "      <th>event_id</th>\n",
       "      <th>traffic_source</th>\n",
       "      <th>event_metadata</th>\n",
       "      <th>event_date</th>\n",
       "      <th>event_offset</th>\n",
       "    </tr>\n",
       "  </thead>\n",
       "  <tbody>\n",
       "    <tr>\n",
       "      <th>12816790</th>\n",
       "      <td>f49a7504-1ae0-4a92-abf6-dfd4488b4956</td>\n",
       "      <td>HOMEPAGE</td>\n",
       "      <td>2022-07-31 23:59:41.294682+00:00</td>\n",
       "      <td>8dcc9008-ae8c-44ee-919f-f5e23cc65e44</td>\n",
       "      <td>WEB</td>\n",
       "      <td>NaN</td>\n",
       "      <td>2022-07-31</td>\n",
       "      <td>86372</td>\n",
       "    </tr>\n",
       "    <tr>\n",
       "      <th>11980456</th>\n",
       "      <td>95168514-c4a8-4611-8739-c45dc6374b43</td>\n",
       "      <td>PROMO_PAGE</td>\n",
       "      <td>2022-07-31 23:59:44.821469+00:00</td>\n",
       "      <td>e68c967a-22e9-413b-bdd5-eafea7ec905b</td>\n",
       "      <td>WEB</td>\n",
       "      <td>NaN</td>\n",
       "      <td>2022-07-31</td>\n",
       "      <td>86376</td>\n",
       "    </tr>\n",
       "    <tr>\n",
       "      <th>11980457</th>\n",
       "      <td>95168514-c4a8-4611-8739-c45dc6374b43</td>\n",
       "      <td>SEARCH</td>\n",
       "      <td>2022-07-31 23:59:44.821469+00:00</td>\n",
       "      <td>66854103-1553-460a-984b-edcdd29c2e95</td>\n",
       "      <td>WEB</td>\n",
       "      <td>{'search_keywords': 'Celana Panjang'}</td>\n",
       "      <td>2022-07-31</td>\n",
       "      <td>86376</td>\n",
       "    </tr>\n",
       "    <tr>\n",
       "      <th>11980451</th>\n",
       "      <td>95168514-c4a8-4611-8739-c45dc6374b43</td>\n",
       "      <td>BOOKING</td>\n",
       "      <td>2022-07-31 23:59:45.821469+00:00</td>\n",
       "      <td>7013e4a1-924c-4fa7-85b2-9b4a95e82f88</td>\n",
       "      <td>WEB</td>\n",
       "      <td>{'payment_status': 'Failed'}</td>\n",
       "      <td>2022-07-31</td>\n",
       "      <td>86377</td>\n",
       "    </tr>\n",
       "    <tr>\n",
       "      <th>12400673</th>\n",
       "      <td>d7fbf83f-0b46-4f82-b375-014a4dbae8e6</td>\n",
       "      <td>PROMO_PAGE</td>\n",
       "      <td>2022-07-31 23:59:55.582104+00:00</td>\n",
       "      <td>27935c0b-6f8a-482a-a336-b93ed153db32</td>\n",
       "      <td>MOBILE</td>\n",
       "      <td>NaN</td>\n",
       "      <td>2022-07-31</td>\n",
       "      <td>86387</td>\n",
       "    </tr>\n",
       "  </tbody>\n",
       "</table>\n",
       "</div>"
      ],
      "text/plain": [
       "                                    session_id  event_name  \\\n",
       "12816790  f49a7504-1ae0-4a92-abf6-dfd4488b4956    HOMEPAGE   \n",
       "11980456  95168514-c4a8-4611-8739-c45dc6374b43  PROMO_PAGE   \n",
       "11980457  95168514-c4a8-4611-8739-c45dc6374b43      SEARCH   \n",
       "11980451  95168514-c4a8-4611-8739-c45dc6374b43     BOOKING   \n",
       "12400673  d7fbf83f-0b46-4f82-b375-014a4dbae8e6  PROMO_PAGE   \n",
       "\n",
       "                               event_time  \\\n",
       "12816790 2022-07-31 23:59:41.294682+00:00   \n",
       "11980456 2022-07-31 23:59:44.821469+00:00   \n",
       "11980457 2022-07-31 23:59:44.821469+00:00   \n",
       "11980451 2022-07-31 23:59:45.821469+00:00   \n",
       "12400673 2022-07-31 23:59:55.582104+00:00   \n",
       "\n",
       "                                      event_id traffic_source  \\\n",
       "12816790  8dcc9008-ae8c-44ee-919f-f5e23cc65e44            WEB   \n",
       "11980456  e68c967a-22e9-413b-bdd5-eafea7ec905b            WEB   \n",
       "11980457  66854103-1553-460a-984b-edcdd29c2e95            WEB   \n",
       "11980451  7013e4a1-924c-4fa7-85b2-9b4a95e82f88            WEB   \n",
       "12400673  27935c0b-6f8a-482a-a336-b93ed153db32         MOBILE   \n",
       "\n",
       "                                 event_metadata  event_date  event_offset  \n",
       "12816790                                    NaN  2022-07-31         86372  \n",
       "11980456                                    NaN  2022-07-31         86376  \n",
       "11980457  {'search_keywords': 'Celana Panjang'}  2022-07-31         86376  \n",
       "11980451           {'payment_status': 'Failed'}  2022-07-31         86377  \n",
       "12400673                                    NaN  2022-07-31         86387  "
      ]
     },
     "execution_count": 39,
     "metadata": {},
     "output_type": "execute_result"
    }
   ],
   "source": [
    "df_final.tail()"
   ]
  },
  {
   "cell_type": "code",
   "execution_count": 40,
   "id": "ab312f55-26de-4cff-8d52-5c38ed7d6ad1",
   "metadata": {},
   "outputs": [],
   "source": [
    "df_final.to_csv('one-day-stream.csv')"
   ]
  },
  {
   "cell_type": "code",
   "execution_count": null,
   "id": "b863f1f3-2bd0-4262-978b-4cf6bb971312",
   "metadata": {},
   "outputs": [],
   "source": []
  },
  {
   "cell_type": "code",
   "execution_count": null,
   "id": "b0fda3a1-119f-4497-adf5-4002a0702b40",
   "metadata": {},
   "outputs": [],
   "source": []
  },
  {
   "cell_type": "code",
   "execution_count": 10,
   "id": "7ffaa0db-fe64-4802-971d-f3c0de550a57",
   "metadata": {},
   "outputs": [
    {
     "data": {
      "text/plain": [
       "'2019-09-01T12:05:10.322763Z'"
      ]
     },
     "execution_count": 10,
     "metadata": {},
     "output_type": "execute_result"
    }
   ],
   "source": [
    "df['event_time'].min()"
   ]
  },
  {
   "cell_type": "code",
   "execution_count": 11,
   "id": "619f8828-175e-4261-8ab4-b68a2fc213ba",
   "metadata": {},
   "outputs": [
    {
     "data": {
      "text/plain": [
       "'2020-11-06T22:54:43.425431Z'"
      ]
     },
     "execution_count": 11,
     "metadata": {},
     "output_type": "execute_result"
    }
   ],
   "source": [
    "df['event_time'].max()"
   ]
  },
  {
   "cell_type": "code",
   "execution_count": 14,
   "id": "4d05ec91-0dc2-4796-a8dd-7b16b19a2268",
   "metadata": {},
   "outputs": [
    {
     "data": {
      "text/plain": [
       "'2019-09-06T15:54:32.821085Z'"
      ]
     },
     "execution_count": 14,
     "metadata": {},
     "output_type": "execute_result"
    }
   ],
   "source": [
    "df.at[0, 'event_time']"
   ]
  },
  {
   "cell_type": "code",
   "execution_count": 18,
   "id": "045ba55d-d466-4326-b1ed-d4943af9b534",
   "metadata": {},
   "outputs": [
    {
     "data": {
      "text/plain": [
       "0      2019-09-06\n",
       "1      2019-09-06\n",
       "2      2019-09-01\n",
       "3      2019-09-01\n",
       "4      2019-09-01\n",
       "          ...    \n",
       "995    2020-11-05\n",
       "996    2020-11-06\n",
       "997    2020-11-05\n",
       "998    2020-11-05\n",
       "999    2020-11-05\n",
       "Name: event_date, Length: 1000, dtype: object"
      ]
     },
     "execution_count": 18,
     "metadata": {},
     "output_type": "execute_result"
    }
   ],
   "source": [
    "df['event_date'] = [d[:10] for d in df['event_time']]\n",
    "df['event_date']"
   ]
  },
  {
   "cell_type": "code",
   "execution_count": 19,
   "id": "327e7a5e-3949-4bb9-bece-550a35975a2c",
   "metadata": {},
   "outputs": [
    {
     "data": {
      "text/html": [
       "<div>\n",
       "<style scoped>\n",
       "    .dataframe tbody tr th:only-of-type {\n",
       "        vertical-align: middle;\n",
       "    }\n",
       "\n",
       "    .dataframe tbody tr th {\n",
       "        vertical-align: top;\n",
       "    }\n",
       "\n",
       "    .dataframe thead th {\n",
       "        text-align: right;\n",
       "    }\n",
       "</style>\n",
       "<table border=\"1\" class=\"dataframe\">\n",
       "  <thead>\n",
       "    <tr style=\"text-align: right;\">\n",
       "      <th></th>\n",
       "      <th>session_id</th>\n",
       "      <th>event_name</th>\n",
       "      <th>event_time</th>\n",
       "      <th>event_id</th>\n",
       "      <th>traffic_source</th>\n",
       "      <th>event_metadata</th>\n",
       "    </tr>\n",
       "    <tr>\n",
       "      <th>event_date</th>\n",
       "      <th></th>\n",
       "      <th></th>\n",
       "      <th></th>\n",
       "      <th></th>\n",
       "      <th></th>\n",
       "      <th></th>\n",
       "    </tr>\n",
       "  </thead>\n",
       "  <tbody>\n",
       "    <tr>\n",
       "      <th>2019-09-01</th>\n",
       "      <td>9</td>\n",
       "      <td>9</td>\n",
       "      <td>9</td>\n",
       "      <td>9</td>\n",
       "      <td>9</td>\n",
       "      <td>3</td>\n",
       "    </tr>\n",
       "    <tr>\n",
       "      <th>2019-09-06</th>\n",
       "      <td>2</td>\n",
       "      <td>2</td>\n",
       "      <td>2</td>\n",
       "      <td>2</td>\n",
       "      <td>2</td>\n",
       "      <td>0</td>\n",
       "    </tr>\n",
       "    <tr>\n",
       "      <th>2019-09-09</th>\n",
       "      <td>27</td>\n",
       "      <td>27</td>\n",
       "      <td>27</td>\n",
       "      <td>27</td>\n",
       "      <td>27</td>\n",
       "      <td>12</td>\n",
       "    </tr>\n",
       "    <tr>\n",
       "      <th>2019-09-15</th>\n",
       "      <td>3</td>\n",
       "      <td>3</td>\n",
       "      <td>3</td>\n",
       "      <td>3</td>\n",
       "      <td>3</td>\n",
       "      <td>1</td>\n",
       "    </tr>\n",
       "    <tr>\n",
       "      <th>2019-09-17</th>\n",
       "      <td>1</td>\n",
       "      <td>1</td>\n",
       "      <td>1</td>\n",
       "      <td>1</td>\n",
       "      <td>1</td>\n",
       "      <td>1</td>\n",
       "    </tr>\n",
       "    <tr>\n",
       "      <th>...</th>\n",
       "      <td>...</td>\n",
       "      <td>...</td>\n",
       "      <td>...</td>\n",
       "      <td>...</td>\n",
       "      <td>...</td>\n",
       "      <td>...</td>\n",
       "    </tr>\n",
       "    <tr>\n",
       "      <th>2020-10-20</th>\n",
       "      <td>4</td>\n",
       "      <td>4</td>\n",
       "      <td>4</td>\n",
       "      <td>4</td>\n",
       "      <td>4</td>\n",
       "      <td>1</td>\n",
       "    </tr>\n",
       "    <tr>\n",
       "      <th>2020-10-21</th>\n",
       "      <td>7</td>\n",
       "      <td>7</td>\n",
       "      <td>7</td>\n",
       "      <td>7</td>\n",
       "      <td>7</td>\n",
       "      <td>3</td>\n",
       "    </tr>\n",
       "    <tr>\n",
       "      <th>2020-10-29</th>\n",
       "      <td>16</td>\n",
       "      <td>16</td>\n",
       "      <td>16</td>\n",
       "      <td>16</td>\n",
       "      <td>16</td>\n",
       "      <td>3</td>\n",
       "    </tr>\n",
       "    <tr>\n",
       "      <th>2020-11-05</th>\n",
       "      <td>9</td>\n",
       "      <td>9</td>\n",
       "      <td>9</td>\n",
       "      <td>9</td>\n",
       "      <td>9</td>\n",
       "      <td>5</td>\n",
       "    </tr>\n",
       "    <tr>\n",
       "      <th>2020-11-06</th>\n",
       "      <td>1</td>\n",
       "      <td>1</td>\n",
       "      <td>1</td>\n",
       "      <td>1</td>\n",
       "      <td>1</td>\n",
       "      <td>1</td>\n",
       "    </tr>\n",
       "  </tbody>\n",
       "</table>\n",
       "<p>141 rows × 6 columns</p>\n",
       "</div>"
      ],
      "text/plain": [
       "            session_id  event_name  event_time  event_id  traffic_source  \\\n",
       "event_date                                                                 \n",
       "2019-09-01           9           9           9         9               9   \n",
       "2019-09-06           2           2           2         2               2   \n",
       "2019-09-09          27          27          27        27              27   \n",
       "2019-09-15           3           3           3         3               3   \n",
       "2019-09-17           1           1           1         1               1   \n",
       "...                ...         ...         ...       ...             ...   \n",
       "2020-10-20           4           4           4         4               4   \n",
       "2020-10-21           7           7           7         7               7   \n",
       "2020-10-29          16          16          16        16              16   \n",
       "2020-11-05           9           9           9         9               9   \n",
       "2020-11-06           1           1           1         1               1   \n",
       "\n",
       "            event_metadata  \n",
       "event_date                  \n",
       "2019-09-01               3  \n",
       "2019-09-06               0  \n",
       "2019-09-09              12  \n",
       "2019-09-15               1  \n",
       "2019-09-17               1  \n",
       "...                    ...  \n",
       "2020-10-20               1  \n",
       "2020-10-21               3  \n",
       "2020-10-29               3  \n",
       "2020-11-05               5  \n",
       "2020-11-06               1  \n",
       "\n",
       "[141 rows x 6 columns]"
      ]
     },
     "execution_count": 19,
     "metadata": {},
     "output_type": "execute_result"
    }
   ],
   "source": [
    "df_grouped_date = df.groupby(['event_date']).count()\n",
    "df_grouped_date"
   ]
  },
  {
   "cell_type": "code",
   "execution_count": null,
   "id": "8ca16ad2-34d3-4cb4-a934-fb4b425406a0",
   "metadata": {},
   "outputs": [],
   "source": []
  },
  {
   "cell_type": "code",
   "execution_count": null,
   "id": "deda5ec1-d550-4a65-949b-4705397f3bd5",
   "metadata": {},
   "outputs": [],
   "source": []
  },
  {
   "cell_type": "code",
   "execution_count": null,
   "id": "08d26c53-1c2c-4cf4-9192-7fac9bd40fd3",
   "metadata": {},
   "outputs": [],
   "source": []
  },
  {
   "cell_type": "code",
   "execution_count": 41,
   "id": "31960a7e-ab68-411a-bd05-263d11fe8f6d",
   "metadata": {},
   "outputs": [
    {
     "data": {
      "text/html": [
       "<div>\n",
       "<style scoped>\n",
       "    .dataframe tbody tr th:only-of-type {\n",
       "        vertical-align: middle;\n",
       "    }\n",
       "\n",
       "    .dataframe tbody tr th {\n",
       "        vertical-align: top;\n",
       "    }\n",
       "\n",
       "    .dataframe thead th {\n",
       "        text-align: right;\n",
       "    }\n",
       "</style>\n",
       "<table border=\"1\" class=\"dataframe\">\n",
       "  <thead>\n",
       "    <tr style=\"text-align: right;\">\n",
       "      <th></th>\n",
       "      <th>session_id</th>\n",
       "      <th>event_name</th>\n",
       "      <th>event_time</th>\n",
       "      <th>event_id</th>\n",
       "      <th>traffic_source</th>\n",
       "      <th>product_id</th>\n",
       "      <th>quantity</th>\n",
       "      <th>item_price</th>\n",
       "      <th>payment_status</th>\n",
       "      <th>search_keywords</th>\n",
       "      <th>promo_code</th>\n",
       "      <th>promo_amount</th>\n",
       "    </tr>\n",
       "  </thead>\n",
       "  <tbody>\n",
       "    <tr>\n",
       "      <th>0</th>\n",
       "      <td>fb0abf9e-fd1a-44dd-b5c0-2834d5a4b81c</td>\n",
       "      <td>HOMEPAGE</td>\n",
       "      <td>2019-09-06T15:54:32.821085Z</td>\n",
       "      <td>9c4388c4-c95b-4678-b5ca-e9cbc0734109</td>\n",
       "      <td>MOBILE</td>\n",
       "      <td>NaN</td>\n",
       "      <td>NaN</td>\n",
       "      <td>NaN</td>\n",
       "      <td>NaN</td>\n",
       "      <td>NaN</td>\n",
       "      <td>NaN</td>\n",
       "      <td>NaN</td>\n",
       "    </tr>\n",
       "    <tr>\n",
       "      <th>1</th>\n",
       "      <td>fb0abf9e-fd1a-44dd-b5c0-2834d5a4b81c</td>\n",
       "      <td>SCROLL</td>\n",
       "      <td>2019-09-06T16:03:57.821085Z</td>\n",
       "      <td>4690e1f5-3f99-42d3-84a5-22c4c4d8500a</td>\n",
       "      <td>MOBILE</td>\n",
       "      <td>NaN</td>\n",
       "      <td>NaN</td>\n",
       "      <td>NaN</td>\n",
       "      <td>NaN</td>\n",
       "      <td>NaN</td>\n",
       "      <td>NaN</td>\n",
       "      <td>NaN</td>\n",
       "    </tr>\n",
       "    <tr>\n",
       "      <th>2</th>\n",
       "      <td>7d440441-e67a-4d36-b324-80ffd636d166</td>\n",
       "      <td>HOMEPAGE</td>\n",
       "      <td>2019-09-01T12:05:10.322763Z</td>\n",
       "      <td>88aeaeb5-ec98-4859-852c-8abb483faf31</td>\n",
       "      <td>MOBILE</td>\n",
       "      <td>NaN</td>\n",
       "      <td>NaN</td>\n",
       "      <td>NaN</td>\n",
       "      <td>NaN</td>\n",
       "      <td>NaN</td>\n",
       "      <td>NaN</td>\n",
       "      <td>NaN</td>\n",
       "    </tr>\n",
       "    <tr>\n",
       "      <th>3</th>\n",
       "      <td>7d440441-e67a-4d36-b324-80ffd636d166</td>\n",
       "      <td>ADD_TO_CART</td>\n",
       "      <td>2019-09-01T12:06:33.322763Z</td>\n",
       "      <td>934e306e-ecc6-472f-9ccb-12c8536910a2</td>\n",
       "      <td>MOBILE</td>\n",
       "      <td>15315.0</td>\n",
       "      <td>4.0</td>\n",
       "      <td>313529.0</td>\n",
       "      <td>NaN</td>\n",
       "      <td>NaN</td>\n",
       "      <td>NaN</td>\n",
       "      <td>NaN</td>\n",
       "    </tr>\n",
       "    <tr>\n",
       "      <th>4</th>\n",
       "      <td>7d440441-e67a-4d36-b324-80ffd636d166</td>\n",
       "      <td>BOOKING</td>\n",
       "      <td>2019-09-01T12:15:29.425431Z</td>\n",
       "      <td>9f4767a1-40fa-4c9c-9524-dfad18634d56</td>\n",
       "      <td>MOBILE</td>\n",
       "      <td>NaN</td>\n",
       "      <td>NaN</td>\n",
       "      <td>NaN</td>\n",
       "      <td>Success</td>\n",
       "      <td>NaN</td>\n",
       "      <td>NaN</td>\n",
       "      <td>NaN</td>\n",
       "    </tr>\n",
       "  </tbody>\n",
       "</table>\n",
       "</div>"
      ],
      "text/plain": [
       "                             session_id   event_name  \\\n",
       "0  fb0abf9e-fd1a-44dd-b5c0-2834d5a4b81c     HOMEPAGE   \n",
       "1  fb0abf9e-fd1a-44dd-b5c0-2834d5a4b81c       SCROLL   \n",
       "2  7d440441-e67a-4d36-b324-80ffd636d166     HOMEPAGE   \n",
       "3  7d440441-e67a-4d36-b324-80ffd636d166  ADD_TO_CART   \n",
       "4  7d440441-e67a-4d36-b324-80ffd636d166      BOOKING   \n",
       "\n",
       "                    event_time                              event_id  \\\n",
       "0  2019-09-06T15:54:32.821085Z  9c4388c4-c95b-4678-b5ca-e9cbc0734109   \n",
       "1  2019-09-06T16:03:57.821085Z  4690e1f5-3f99-42d3-84a5-22c4c4d8500a   \n",
       "2  2019-09-01T12:05:10.322763Z  88aeaeb5-ec98-4859-852c-8abb483faf31   \n",
       "3  2019-09-01T12:06:33.322763Z  934e306e-ecc6-472f-9ccb-12c8536910a2   \n",
       "4  2019-09-01T12:15:29.425431Z  9f4767a1-40fa-4c9c-9524-dfad18634d56   \n",
       "\n",
       "  traffic_source  product_id  quantity  item_price payment_status  \\\n",
       "0         MOBILE         NaN       NaN         NaN            NaN   \n",
       "1         MOBILE         NaN       NaN         NaN            NaN   \n",
       "2         MOBILE         NaN       NaN         NaN            NaN   \n",
       "3         MOBILE     15315.0       4.0    313529.0            NaN   \n",
       "4         MOBILE         NaN       NaN         NaN        Success   \n",
       "\n",
       "  search_keywords promo_code  promo_amount  \n",
       "0             NaN        NaN           NaN  \n",
       "1             NaN        NaN           NaN  \n",
       "2             NaN        NaN           NaN  \n",
       "3             NaN        NaN           NaN  \n",
       "4             NaN        NaN           NaN  "
      ]
     },
     "execution_count": 41,
     "metadata": {},
     "output_type": "execute_result"
    }
   ],
   "source": [
    "df1 = pd.read_csv('../data/click_stream_new.csv', skiprows=0, nrows=1000)\n",
    "df1.head()"
   ]
  },
  {
   "cell_type": "code",
   "execution_count": 43,
   "id": "781bb56c-026a-49bb-9166-712b1f9dd78e",
   "metadata": {},
   "outputs": [
    {
     "data": {
      "text/plain": [
       "array(['HOMEPAGE', 'SCROLL', 'ADD_TO_CART', 'BOOKING', 'SEARCH',\n",
       "       'ITEM_DETAIL', 'ADD_PROMO', 'CLICK', 'PROMO_PAGE'], dtype=object)"
      ]
     },
     "execution_count": 43,
     "metadata": {},
     "output_type": "execute_result"
    }
   ],
   "source": [
    "df1['event_name'].unique()"
   ]
  },
  {
   "cell_type": "code",
   "execution_count": 45,
   "id": "fdd4bc99-4238-491c-a474-dad2a3d903d6",
   "metadata": {},
   "outputs": [
    {
     "name": "stdout",
     "output_type": "stream",
     "text": [
      "<class 'pandas.core.frame.DataFrame'>\n",
      "RangeIndex: 1000 entries, 0 to 999\n",
      "Data columns (total 12 columns):\n",
      " #   Column           Non-Null Count  Dtype  \n",
      "---  ------           --------------  -----  \n",
      " 0   session_id       1000 non-null   object \n",
      " 1   event_name       1000 non-null   object \n",
      " 2   event_time       1000 non-null   object \n",
      " 3   event_id         1000 non-null   object \n",
      " 4   traffic_source   1000 non-null   object \n",
      " 5   product_id       72 non-null     float64\n",
      " 6   quantity         72 non-null     float64\n",
      " 7   item_price       72 non-null     float64\n",
      " 8   payment_status   55 non-null     object \n",
      " 9   search_keywords  105 non-null    object \n",
      " 10  promo_code       30 non-null     object \n",
      " 11  promo_amount     30 non-null     float64\n",
      "dtypes: float64(4), object(8)\n",
      "memory usage: 93.9+ KB\n"
     ]
    }
   ],
   "source": [
    "df1.info()"
   ]
  },
  {
   "cell_type": "code",
   "execution_count": null,
   "id": "d0af86c9-a2fd-48ee-9dbd-d60e8b765e79",
   "metadata": {},
   "outputs": [],
   "source": []
  },
  {
   "cell_type": "code",
   "execution_count": null,
   "id": "0a257b23-4196-4aff-bf38-a535ec31418e",
   "metadata": {},
   "outputs": [],
   "source": []
  },
  {
   "cell_type": "code",
   "execution_count": null,
   "id": "58e65d57-9b63-497f-a017-84fa882f3e6b",
   "metadata": {},
   "outputs": [],
   "source": []
  },
  {
   "cell_type": "code",
   "execution_count": null,
   "id": "0695dfce-7a5a-404f-a110-59e664c56343",
   "metadata": {},
   "outputs": [],
   "source": []
  },
  {
   "cell_type": "code",
   "execution_count": null,
   "id": "b48d6629-8d05-4013-9672-4e423f559a0c",
   "metadata": {},
   "outputs": [],
   "source": []
  },
  {
   "cell_type": "code",
   "execution_count": null,
   "id": "8fbb7831-330f-490b-8cf5-69efb1e05c87",
   "metadata": {},
   "outputs": [],
   "source": []
  },
  {
   "cell_type": "code",
   "execution_count": null,
   "id": "756e0883-c5ee-4153-b2db-07015f52c8d2",
   "metadata": {},
   "outputs": [],
   "source": []
  },
  {
   "cell_type": "code",
   "execution_count": null,
   "id": "22f3b7ef-24eb-4b51-a3b0-0d841ebda4fc",
   "metadata": {},
   "outputs": [],
   "source": []
  }
 ],
 "metadata": {
  "kernelspec": {
   "display_name": "Python 3 (ipykernel)",
   "language": "python",
   "name": "python3"
  },
  "language_info": {
   "codemirror_mode": {
    "name": "ipython",
    "version": 3
   },
   "file_extension": ".py",
   "mimetype": "text/x-python",
   "name": "python",
   "nbconvert_exporter": "python",
   "pygments_lexer": "ipython3",
   "version": "3.10.12"
  }
 },
 "nbformat": 4,
 "nbformat_minor": 5
}
